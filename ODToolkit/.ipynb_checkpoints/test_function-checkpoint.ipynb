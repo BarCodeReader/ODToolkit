{
 "cells": [
  {
   "cell_type": "code",
   "execution_count": 1,
   "id": "f66e1ffa",
   "metadata": {},
   "outputs": [],
   "source": [
    "from Dataset import DatasetMaker"
   ]
  },
  {
   "cell_type": "code",
   "execution_count": 2,
   "id": "cb011e62",
   "metadata": {},
   "outputs": [
    {
     "name": "stdout",
     "output_type": "stream",
     "text": [
      "image path: ./old_cam_data/images/\n",
      "label path: ./old_cam_data/labels/\n",
      "image type: *.jpg\n",
      "label type: *.txt\n",
      "\n"
     ]
    }
   ],
   "source": [
    "dm = DatasetMaker(img_path='./old_cam_data/images/',\n",
    "                  lbl_path='./old_cam_data/labels/',\n",
    "                  img_type='*.jpg', \n",
    "                  lbl_type='*.txt')"
   ]
  },
  {
   "cell_type": "code",
   "execution_count": 3,
   "id": "49bfb8cf",
   "metadata": {},
   "outputs": [
    {
     "name": "stdout",
     "output_type": "stream",
     "text": [
      "images: 4363\n",
      "labels: 4363\n",
      "2021-10-21 --- 622\n",
      "2021-10-23 --- 2727\n",
      "2021-10-25 --- 1014\n",
      "{'not_labeled': 1784, 'labeled': 2579}\n"
     ]
    }
   ],
   "source": [
    "dm.check_data()"
   ]
  },
  {
   "cell_type": "code",
   "execution_count": 4,
   "id": "d050ed26",
   "metadata": {},
   "outputs": [
    {
     "data": {
      "text/plain": [
       "<Figure size 1440x1440 with 0 Axes>"
      ]
     },
     "metadata": {},
     "output_type": "display_data"
    },
    {
     "data": {
      "application/vnd.jupyter.widget-view+json": {
       "model_id": "a39f94242366411289978530e0586a20",
       "version_major": 2,
       "version_minor": 0
      },
      "text/plain": [
       "interactive(children=(IntSlider(value=2181, description='i', max=4362), Output()), _dom_classes=('widget-inter…"
      ]
     },
     "metadata": {},
     "output_type": "display_data"
    }
   ],
   "source": [
    "dm.visualize()"
   ]
  },
  {
   "cell_type": "code",
   "execution_count": 5,
   "id": "d74719ed",
   "metadata": {},
   "outputs": [
    {
     "name": "stdout",
     "output_type": "stream",
     "text": [
      "tick the data for training, the rest will be testing\n",
      "total images:4363\n",
      "total labels:4363\n"
     ]
    },
    {
     "data": {
      "application/vnd.jupyter.widget-view+json": {
       "model_id": "8f08d28a792c4639b41dd1f1282d6713",
       "version_major": 2,
       "version_minor": 0
      },
      "text/plain": [
       "Checkbox(value=False, description='2021-10-21 --- 622')"
      ]
     },
     "metadata": {},
     "output_type": "display_data"
    },
    {
     "data": {
      "application/vnd.jupyter.widget-view+json": {
       "model_id": "0f082caf1f8d443fa9924446d8da27bf",
       "version_major": 2,
       "version_minor": 0
      },
      "text/plain": [
       "Checkbox(value=False, description='2021-10-23 --- 2727')"
      ]
     },
     "metadata": {},
     "output_type": "display_data"
    },
    {
     "data": {
      "application/vnd.jupyter.widget-view+json": {
       "model_id": "d4329e28f35649028b8bda9d77fc67f6",
       "version_major": 2,
       "version_minor": 0
      },
      "text/plain": [
       "Checkbox(value=False, description='2021-10-25 --- 1014')"
      ]
     },
     "metadata": {},
     "output_type": "display_data"
    }
   ],
   "source": [
    "dm.get_scenes()"
   ]
  },
  {
   "cell_type": "code",
   "execution_count": 6,
   "id": "348cc329",
   "metadata": {},
   "outputs": [
    {
     "name": "stdout",
     "output_type": "stream",
     "text": [
      "True\n",
      "False\n",
      "False\n"
     ]
    }
   ],
   "source": [
    "dm.get_box_info()"
   ]
  },
  {
   "cell_type": "code",
   "execution_count": 7,
   "id": "7f485d3d",
   "metadata": {},
   "outputs": [
    {
     "name": "stdout",
     "output_type": "stream",
     "text": [
      "['2021-10-21'] will be test datasets, the rest are all training data\n",
      "moving images to target folders\n"
     ]
    },
    {
     "data": {
      "application/vnd.jupyter.widget-view+json": {
       "model_id": "6950561c10424239b0038ef1589d38fd",
       "version_major": 2,
       "version_minor": 0
      },
      "text/plain": [
       "  0%|          | 0/4363 [00:00<?, ?it/s]"
      ]
     },
     "metadata": {},
     "output_type": "display_data"
    },
    {
     "name": "stdout",
     "output_type": "stream",
     "text": [
      "moving labels to target folders\n"
     ]
    },
    {
     "data": {
      "application/vnd.jupyter.widget-view+json": {
       "model_id": "44e995dfbf0c4b28889c23cdddcc1000",
       "version_major": 2,
       "version_minor": 0
      },
      "text/plain": [
       "  0%|          | 0/4363 [00:00<?, ?it/s]"
      ]
     },
     "metadata": {},
     "output_type": "display_data"
    },
    {
     "name": "stdout",
     "output_type": "stream",
     "text": [
      "training image length:  3741\n",
      "testing image length:  622\n",
      "training label length:  3741\n",
      "testing label length:  622\n"
     ]
    }
   ],
   "source": [
    "dm.split_train_test(img_train='./sample_dataset/images/train/', \n",
    "                    img_test='./sample_dataset/images/test/', \n",
    "                    lbl_train='./sample_dataset/labels/train/', \n",
    "                    lbl_test='./sample_dataset/labels/test/')"
   ]
  },
  {
   "cell_type": "code",
   "execution_count": 8,
   "id": "4347906b",
   "metadata": {},
   "outputs": [
    {
     "data": {
      "application/vnd.jupyter.widget-view+json": {
       "model_id": "0cb765cbf24b47bcbfbac5a96c121716",
       "version_major": 2,
       "version_minor": 0
      },
      "text/plain": [
       "  0%|          | 0/3741 [00:00<?, ?it/s]"
      ]
     },
     "metadata": {},
     "output_type": "display_data"
    },
    {
     "name": "stdout",
     "output_type": "stream",
     "text": [
      "4170\n",
      "4170\n",
      "Done! 0 of images failed, 3312 of invalid thus no augmentation applied.\n",
      "Among 429 valid images, with repeat factor <2>,\n",
      "total images after augmentaion: 3312 + 429*2 = 4170\n"
     ]
    }
   ],
   "source": [
    "dm.create_aug_dataset(savepath_img='./sample_dataset/images/train_aug/', \n",
    "                      savepath_lbl='./sample_dataset/labels/train_aug/', \n",
    "                      repeat=2,\n",
    "                      R=2,\n",
    "                      width=640,\n",
    "                      height=480,\n",
    "                      area_threshold=0.005,\n",
    "                      mask_percentage=0.15,\n",
    "                      mask_top=True,\n",
    "                      quit=100)\n"
   ]
  },
  {
   "cell_type": "code",
   "execution_count": null,
   "id": "16c7e0ad",
   "metadata": {},
   "outputs": [],
   "source": []
  }
 ],
 "metadata": {
  "kernelspec": {
   "display_name": "Python 3",
   "language": "python",
   "name": "python3"
  },
  "language_info": {
   "codemirror_mode": {
    "name": "ipython",
    "version": 3
   },
   "file_extension": ".py",
   "mimetype": "text/x-python",
   "name": "python",
   "nbconvert_exporter": "python",
   "pygments_lexer": "ipython3",
   "version": "3.8.8"
  }
 },
 "nbformat": 4,
 "nbformat_minor": 5
}
